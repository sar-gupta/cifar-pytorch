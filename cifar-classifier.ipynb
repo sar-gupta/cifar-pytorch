{
 "cells": [
  {
   "cell_type": "code",
   "execution_count": 1,
   "metadata": {
    "collapsed": true
   },
   "outputs": [],
   "source": [
    "import torch\n",
    "import torchvision\n",
    "import torchvision.transforms as transforms"
   ]
  },
  {
   "cell_type": "code",
   "execution_count": 2,
   "metadata": {
    "scrolled": true
   },
   "outputs": [
    {
     "name": "stdout",
     "output_type": "stream",
     "text": [
      "Files already downloaded and verified\n",
      "Files already downloaded and verified\n"
     ]
    }
   ],
   "source": [
    "# Define the transforms that you want to perform, orderwise\n",
    "transform = transforms.Compose([transforms.ToTensor(), transforms.Normalize((.5,.5,.5), (.5,.5,.5))])\n",
    "# Get the dataset and apply transforms\n",
    "trainset = torchvision.datasets.CIFAR10(root='./data', train=True, download=True, transform=transform)\n",
    "# Load the dataset, and divide into mini-batches\n",
    "trainloader = torch.utils.data.DataLoader(trainset, batch_size=4, shuffle=True, num_workers=2)\n",
    "\n",
    "testset = torchvision.datasets.CIFAR10(root='./data', train=False, download=True, transform=transform)\n",
    "testloader = torch.utils.data.DataLoader(testset, batch_size=4, shuffle=False, num_workers=2)\n",
    "\n",
    "classes = ('plane', 'car', 'bird', 'cat', 'deer', 'dog', 'frog', 'horse', 'ship', 'truck')"
   ]
  },
  {
   "cell_type": "code",
   "execution_count": 3,
   "metadata": {},
   "outputs": [
    {
     "data": {
      "image/png": "[encoded data removed]",
      "text/plain": [
       "<matplotlib.figure.Figure at 0x7fb56dff27b8>"
      ]
     },
     "metadata": {},
     "output_type": "display_data"
    },
    {
     "name": "stdout",
     "output_type": "stream",
     "text": [
      "     frog       car      bird       dog\n"
     ]
    }
   ],
   "source": [
    "import matplotlib.pyplot as plt\n",
    "import numpy as np\n",
    "\n",
    "def imshow(img):\n",
    "    img = img/2 + 0.5\n",
    "    npimg = img.numpy()\n",
    "    plt.imshow(np.transpose(npimg, (1,2,0)))\n",
    "    plt.show()\n",
    "\n",
    "# get some random \n",
    "dataiter = iter(trainloader)\n",
    "images, labels = dataiter.next()\n",
    "\n",
    "imshow(torchvision.utils.make_grid(images))\n",
    "print(' '.join('%9s' % classes[labels[j]] for j in range(4)))"
   ]
  },
  {
   "cell_type": "code",
   "execution_count": 4,
   "metadata": {
    "collapsed": true
   },
   "outputs": [],
   "source": [
    "from torch.autograd import Variable\n",
    "import torch.nn as nn\n",
    "import torch.nn.functional as F\n",
    "\n",
    "class Net(nn.Module):\n",
    "    def __init__(self):\n",
    "        super(Net, self).__init__()\n",
    "        self.conv1 = nn.Conv2d(3,6,5)\n",
    "        self.pool = nn.MaxPool2d(2,2)\n",
    "        self.conv2 = nn.Conv2d(6,16,5)\n",
    "        self.fc1 = nn.Linear(16*5*5, 120)\n",
    "        self.fc2 = nn.Linear(120, 84)\n",
    "        self.fc3 = nn.Linear(84, 10)\n",
    "        \n",
    "    def forward(self, x):\n",
    "        x = self.pool(F.relu(self.conv1(x)))\n",
    "        x = self.pool(F.relu(self.conv2(x)))\n",
    "        x = x.view(-1, 16*5*5)\n",
    "        x = F.relu(self.fc1(x))\n",
    "        x = F.relu(self.fc2(x))\n",
    "        x = self.fc3(x)\n",
    "        return x"
   ]
  },
  {
   "cell_type": "code",
   "execution_count": 5,
   "metadata": {},
   "outputs": [
    {
     "data": {
      "text/plain": [
       "Net (\n",
       "  (conv1): Conv2d(3, 6, kernel_size=(5, 5), stride=(1, 1))\n",
       "  (pool): MaxPool2d (size=(2, 2), stride=(2, 2), dilation=(1, 1))\n",
       "  (conv2): Conv2d(6, 16, kernel_size=(5, 5), stride=(1, 1))\n",
       "  (fc1): Linear (400 -> 120)\n",
       "  (fc2): Linear (120 -> 84)\n",
       "  (fc3): Linear (84 -> 10)\n",
       ")"
      ]
     },
     "execution_count": 5,
     "metadata": {},
     "output_type": "execute_result"
    }
   ],
   "source": [
    "net = Net()\n",
    "net.cuda()"
   ]
  },
  {
   "cell_type": "code",
   "execution_count": 6,
   "metadata": {
    "collapsed": true
   },
   "outputs": [],
   "source": [
    "import torch.optim as optim"
   ]
  },
  {
   "cell_type": "code",
   "execution_count": 7,
   "metadata": {},
   "outputs": [],
   "source": [
    "criterion = nn.CrossEntropyLoss()\n",
    "optimizer = optim.SGD(net.parameters(), lr=0.001, momentum=0.9)"
   ]
  },
  {
   "cell_type": "code",
   "execution_count": 8,
   "metadata": {
    "scrolled": false
   },
   "outputs": [
    {
     "name": "stdout",
     "output_type": "stream",
     "text": [
      "[1,  2000] loss: 2.199878\n",
      "[1,  4000] loss: 1.851723\n",
      "[1,  6000] loss: 1.682083\n",
      "[1,  8000] loss: 1.560198\n",
      "[1, 10000] loss: 1.514026\n",
      "[1, 12000] loss: 1.453494\n",
      "[2,  2000] loss: 1.390913\n",
      "[2,  4000] loss: 1.375608\n",
      "[2,  6000] loss: 1.372205\n",
      "[2,  8000] loss: 1.323982\n",
      "[2, 10000] loss: 1.318037\n",
      "[2, 12000] loss: 1.306079\n",
      "[3,  2000] loss: 1.240669\n",
      "[3,  4000] loss: 1.213242\n",
      "[3,  6000] loss: 1.214875\n",
      "[3,  8000] loss: 1.207897\n",
      "[3, 10000] loss: 1.204147\n",
      "[3, 12000] loss: 1.215169\n",
      "[4,  2000] loss: 1.108747\n",
      "[4,  4000] loss: 1.142114\n",
      "[4,  6000] loss: 1.130189\n",
      "[4,  8000] loss: 1.122265\n",
      "[4, 10000] loss: 1.126745\n",
      "[4, 12000] loss: 1.120516\n",
      "[5,  2000] loss: 1.017793\n",
      "[5,  4000] loss: 1.062216\n",
      "[5,  6000] loss: 1.056773\n",
      "[5,  8000] loss: 1.067307\n",
      "[5, 10000] loss: 1.076457\n",
      "[5, 12000] loss: 1.065350\n",
      "[6,  2000] loss: 0.958780\n",
      "[6,  4000] loss: 1.005446\n",
      "[6,  6000] loss: 0.992344\n",
      "[6,  8000] loss: 1.034378\n",
      "[6, 10000] loss: 1.020160\n",
      "[6, 12000] loss: 0.997422\n",
      "[7,  2000] loss: 0.921991\n",
      "[7,  4000] loss: 0.946485\n",
      "[7,  6000] loss: 0.962210\n",
      "[7,  8000] loss: 0.965274\n",
      "[7, 10000] loss: 0.954408\n",
      "[7, 12000] loss: 0.977376\n",
      "[8,  2000] loss: 0.863950\n",
      "[8,  4000] loss: 0.891569\n",
      "[8,  6000] loss: 0.928493\n",
      "[8,  8000] loss: 0.896871\n",
      "[8, 10000] loss: 0.925099\n",
      "[8, 12000] loss: 0.948499\n",
      "[9,  2000] loss: 0.820514\n",
      "[9,  4000] loss: 0.872697\n",
      "[9,  6000] loss: 0.866939\n",
      "[9,  8000] loss: 0.901238\n",
      "[9, 10000] loss: 0.885550\n",
      "[9, 12000] loss: 0.897178\n",
      "[10,  2000] loss: 0.814542\n",
      "[10,  4000] loss: 0.806030\n",
      "[10,  6000] loss: 0.853779\n",
      "[10,  8000] loss: 0.848506\n",
      "[10, 10000] loss: 0.883828\n",
      "[10, 12000] loss: 0.881729\n",
      "Finished training.\n"
     ]
    }
   ],
   "source": [
    "for epoch in range(10):\n",
    "    running_loss = 0.0\n",
    "    for i, data in enumerate(trainloader, 0):\n",
    "        inputs, labels = data\n",
    "        \n",
    "        # wrap them in a Variable, because input should be variable\n",
    "        inputs, labels = Variable(inputs.cuda()), Variable(labels.cuda())\n",
    "        optimizer.zero_grad()\n",
    "        outputs = net(inputs)\n",
    "        loss = criterion(outputs, labels)\n",
    "        loss.backward()\n",
    "        optimizer.step()\n",
    "        \n",
    "        running_loss += loss.data[0]\n",
    "        if i%2000 == 1999:\n",
    "            print('[%d, %5d] loss: %3f' % (epoch+1, i+1, running_loss/2000))\n",
    "            running_loss = 0.0\n",
    "print('Finished training.')"
   ]
  },
  {
   "cell_type": "code",
   "execution_count": 9,
   "metadata": {},
   "outputs": [
    {
     "data": {
      "image/png": "[encoded data removed]",
      "text/plain": [
       "<matplotlib.figure.Figure at 0x7fb56dff2908>"
      ]
     },
     "metadata": {},
     "output_type": "display_data"
    },
    {
     "name": "stdout",
     "output_type": "stream",
     "text": [
      "Ground truth:    cat  ship  ship plane\n"
     ]
    }
   ],
   "source": [
    "dataiter = iter(testloader)\n",
    "images, labels = dataiter.next()\n",
    "\n",
    "imshow(torchvision.utils.make_grid(images))\n",
    "print('Ground truth: ', ' '.join('%5s' % classes[labels[j]] for j in range(4)))"
   ]
  },
  {
   "cell_type": "code",
   "execution_count": 10,
   "metadata": {
    "collapsed": true
   },
   "outputs": [],
   "source": [
    "outputs = net(Variable(images.cuda()))"
   ]
  },
  {
   "cell_type": "code",
   "execution_count": 11,
   "metadata": {},
   "outputs": [
    {
     "name": "stdout",
     "output_type": "stream",
     "text": [
      "Predicted:    cat  ship  ship plane\n"
     ]
    }
   ],
   "source": [
    "_, predicted = torch.max(outputs.data, 1)\n",
    "print('Predicted: ', ' '.join('%5s' % classes[predicted[j]] for j in range(4)))"
   ]
  },
  {
   "cell_type": "code",
   "execution_count": 12,
   "metadata": {},
   "outputs": [
    {
     "name": "stdout",
     "output_type": "stream",
     "text": [
      "Accuracy on 10000 test images: 9 %\n"
     ]
    }
   ],
   "source": [
    "correct = 0\n",
    "total = 0\n",
    "for data in testloader:\n",
    "    images, labels = data\n",
    "    optputs = net(Variable(images.cuda()))\n",
    "    _, predicted = torch.max(outputs.data, 1)\n",
    "    total+= labels.size(0)\n",
    "    correct += (predicted.cpu() == labels.cpu()).sum()\n",
    "    \n",
    "print('Accuracy on 10000 test images: %d %%' % (correct*100/total))"
   ]
  },
  {
   "cell_type": "code",
   "execution_count": null,
   "metadata": {
    "collapsed": true
   },
   "outputs": [],
   "source": []
  }
 ],
 "metadata": {
  "kernelspec": {
   "display_name": "pytorch",
   "language": "python",
   "name": "pytorch"
  },
  "language_info": {
   "codemirror_mode": {
    "name": "ipython",
    "version": 3
   },
   "file_extension": ".py",
   "mimetype": "text/x-python",
   "name": "python",
   "nbconvert_exporter": "python",
   "pygments_lexer": "ipython3",
   "version": "3.5.3"
  }
 },
 "nbformat": 4,
 "nbformat_minor": 2
}
